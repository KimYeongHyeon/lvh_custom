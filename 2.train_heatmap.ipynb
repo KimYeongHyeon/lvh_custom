{
 "cells": [
  {
   "cell_type": "code",
   "execution_count": 90,
   "metadata": {},
   "outputs": [
    {
     "name": "stdout",
     "output_type": "stream",
     "text": [
      "The autoreload extension is already loaded. To reload it, use:\n",
      "  %reload_ext autoreload\n"
     ]
    }
   ],
   "source": [
    "%load_ext autoreload\n",
    "%autoreload 2"
   ]
  },
  {
   "cell_type": "code",
   "execution_count": 91,
   "metadata": {},
   "outputs": [],
   "source": [
    "import os\n",
    "import glob\n",
    "import numpy as np\n",
    "import matplotlib.pyplot as plt\n",
    "import pandas as pd\n",
    "import random\n",
    "\n",
    "from sklearn.model_selection import train_test_split\n",
    "\n",
    "import torch\n",
    "import torch.nn as nn\n",
    "from torch.utils.data import Dataset, DataLoader\n",
    "from torchvision import transforms\n",
    "from albumentations.pytorch import ToTensorV2\n",
    "\n",
    "import albumentations as A\n",
    "import monai\n",
    "\n",
    "from colorama import Fore, Back, Style\n",
    "c_  = Fore.GREEN\n",
    "sr_ = Style.RESET_ALL\n",
    "\n",
    "import time\n",
    "from collections import defaultdict\n",
    "import copy\n",
    "import gc\n",
    "\n",
    "from utils.dataset import EchoDataset_heatmap\n",
    "from utils.train import *\n",
    "from utils.evaluation import *\n",
    "from utils.optimizer import *\n",
    "from utils.utils import *\n",
    "\n",
    "import wandb\n",
    "import warnings\n",
    "\n",
    "warnings.filterwarnings(\"ignore\")\n"
   ]
  },
  {
   "cell_type": "code",
   "execution_count": 92,
   "metadata": {},
   "outputs": [],
   "source": [
    "### Logging part\n",
    "import logging\n",
    "from datetime import datetime\n",
    "from pytz import timezone\n",
    "import sys\n",
    "\n",
    "import random\n",
    "\n",
    "def log(CFG):\n",
    "    logger = logging.getLogger()\n",
    "    logger.setLevel(logging.INFO)\n",
    "    def timetz(*args):\n",
    "        return datetime.now(tz).timetuple()\n",
    "    tz = timezone('Asia/Seoul')\n",
    "    logging.Formatter.converter = timetz\n",
    "\n",
    "    formatter = logging.Formatter('%(asctime)s - %(name)s - %(levelname)s - %(message)s')\n",
    "    # log 출력\n",
    "    stream_handler = logging.StreamHandler()\n",
    "    stream_handler.setFormatter(formatter)\n",
    "    logger.addHandler(stream_handler)\n",
    "\n",
    "    # log를 파일에 출력\n",
    "    file_handler = logging.FileHandler(os.path.join('saved_model', CFG['version'], f\"{CFG['view']}-{CFG['dataset']}-{CFG['backbone']}.log\"))\n",
    "    file_handler.setFormatter(formatter)\n",
    "    logger.addHandler(file_handler)\n",
    "\n",
    "    logger.info(f\"python {' '.join(sys.argv)}\")\n",
    "    logger.info(\"Timezone: \" + str(tz))\n",
    "    logger.info(f\"Training Start\")\n",
    "    return logger\n"
   ]
  },
  {
   "cell_type": "code",
   "execution_count": 93,
   "metadata": {},
   "outputs": [],
   "source": [
    "def seed_everything(seed: int=0):    \n",
    "    random.seed(seed)\n",
    "    os.environ['PYTHONHASHSEED'] = str(seed)\n",
    "    np.random.seed(seed)\n",
    "    torch.manual_seed(seed)\n",
    "    torch.cuda.manual_seed(seed)\n",
    "    torch.backends.cudnn.deterministic = True\n",
    "    torch.backends.cudnn.benchmark = True\n",
    "seed_everything()"
   ]
  },
  {
   "cell_type": "markdown",
   "metadata": {},
   "source": [
    "## ⚙️ Configuration"
   ]
  },
  {
   "cell_type": "code",
   "execution_count": 94,
   "metadata": {},
   "outputs": [],
   "source": [
    "view2cls_dict = {\n",
    "    'PLAX': 3,\n",
    "    'PSAX': 0,\n",
    "    '2CH': 2,\n",
    "    '4CH': 2,\n",
    "}\n",
    "class cfg:\n",
    "    def __getitem__(self,key):\n",
    "        return getattr(self, key)\n",
    "    def __setitem__(self,key,value):\n",
    "        return setattr(self, key, value)\n",
    "\n",
    "    height = 480   \n",
    "    width = 640\n",
    "    view = 'PLAX'\n",
    "    dataset = 'EchoNetLVH'\n",
    "    lr = 1e-3\n",
    "    scheduler = 'LambdaLR'\n",
    "    reducelr_factor = 0.99\n",
    "    min_lr = 1e-5\n",
    "    device = torch.device('mps')\n",
    "    epochs = 200\n",
    "    patience = 50\n",
    "    batch_size = 2\n",
    "\n",
    "    ############## Heatmap hyperparameter\n",
    "    std = 7\n",
    "    ##############\n",
    "    backbone = 'resnet50'\n",
    "    version = 'resnet50'\n",
    "    \n",
    "CFG = cfg()\n",
    "\n",
    "os.makedirs(os.path.join('saved_model', CFG['version']), exist_ok=True)"
   ]
  },
  {
   "cell_type": "code",
   "execution_count": 95,
   "metadata": {},
   "outputs": [
    {
     "name": "stdout",
     "output_type": "stream",
     "text": [
      "2022-10-16 21:49:56,243 - python /opt/homebrew/Caskroom/miniconda/base/envs/torch/lib/python3.8/site-packages/ipykernel_launcher.py -f /Users/kyh/Library/Jupyter/runtime/kernel-46f3769b-4d00-4753-92a9-e86c898b866f.json\n"
     ]
    },
    {
     "name": "stderr",
     "output_type": "stream",
     "text": [
      "2022-10-16 21:49:56,243 - root - INFO - python /opt/homebrew/Caskroom/miniconda/base/envs/torch/lib/python3.8/site-packages/ipykernel_launcher.py -f /Users/kyh/Library/Jupyter/runtime/kernel-46f3769b-4d00-4753-92a9-e86c898b866f.json\n",
      "2022-10-16 21:49:56,243 - root - INFO - python /opt/homebrew/Caskroom/miniconda/base/envs/torch/lib/python3.8/site-packages/ipykernel_launcher.py -f /Users/kyh/Library/Jupyter/runtime/kernel-46f3769b-4d00-4753-92a9-e86c898b866f.json\n"
     ]
    },
    {
     "name": "stdout",
     "output_type": "stream",
     "text": [
      "2022-10-16 21:49:56,245 - Timezone: Asia/Seoul\n"
     ]
    },
    {
     "name": "stderr",
     "output_type": "stream",
     "text": [
      "2022-10-16 21:49:56,245 - root - INFO - Timezone: Asia/Seoul\n",
      "2022-10-16 21:49:56,245 - root - INFO - Timezone: Asia/Seoul\n"
     ]
    },
    {
     "name": "stdout",
     "output_type": "stream",
     "text": [
      "2022-10-16 21:49:56,247 - Training Start\n"
     ]
    },
    {
     "name": "stderr",
     "output_type": "stream",
     "text": [
      "2022-10-16 21:49:56,247 - root - INFO - Training Start\n",
      "2022-10-16 21:49:56,247 - root - INFO - Training Start\n"
     ]
    }
   ],
   "source": [
    "\n",
    "logger = log(CFG)\n",
    "trace_func = logger.info"
   ]
  },
  {
   "cell_type": "code",
   "execution_count": 96,
   "metadata": {},
   "outputs": [],
   "source": [
    "dataset_dir = 'output'"
   ]
  },
  {
   "cell_type": "markdown",
   "metadata": {},
   "source": [
    "## 📀 Load Data"
   ]
  },
  {
   "cell_type": "code",
   "execution_count": 97,
   "metadata": {},
   "outputs": [],
   "source": [
    "from albumentations.core.transforms_interface import ImageOnlyTransform\n",
    "\n",
    "class MinMaxNormalize(ImageOnlyTransform):\n",
    "    \"\"\"\n",
    "    Min-max normalization\n",
    "    \"\"\"\n",
    "    def apply(self, img, **param):\n",
    "        # minmax normalize\n",
    "        img = (img - img.min()) / (img.max() - img.min())\n",
    "        return img\n"
   ]
  },
  {
   "cell_type": "code",
   "execution_count": 98,
   "metadata": {},
   "outputs": [],
   "source": [
    "train_ts = A.Compose([\n",
    "    A.Resize(CFG['height'], CFG['width']),\n",
    "    A.HorizontalFlip(p=.5),\n",
    "    A.VerticalFlip(p=.3),\n",
    "    # A.ShiftScaleRotate(shift_limit=0.0625, scale_limit=0.2,\n",
    "    #                 rotate_limit=10, p=0.2),\n",
    "    A.SafeRotate(limit=30),\n",
    "\n",
    "    A.OneOf([\n",
    "        A.MedianBlur(blur_limit=3, p=0.1),\n",
    "        A.MotionBlur(p=0.2),\n",
    "    ], p=0.2),\n",
    "    # A.OneOf([\n",
    "    #     A.OpticalDistortion(p=0.3),\n",
    "    # ], p=0.2),\n",
    "    A.OneOf([\n",
    "        A.GaussNoise(p=0.2),\n",
    "        A.MultiplicativeNoise(p=0.2),\n",
    "    ], p=0.2),\n",
    "    A.HueSaturationValue(hue_shift_limit=0, sat_shift_limit=0,\n",
    "                         val_shift_limit=0.1, p=0.3),\n",
    "    MinMaxNormalize(p=1),\n",
    "\n",
    "    # ToTensorV2(),\n",
    "\n",
    "],\n",
    "    keypoint_params=A.KeypointParams(format='xy')\n",
    ")\n",
    "test_ts = A.Compose([\n",
    "        A.Resize(CFG['height'], CFG['width']),\n",
    "        MinMaxNormalize(p=1),\n",
    "        # ToTensorV2(),\n",
    "        ],\n",
    "        keypoint_params=A.KeypointParams(format='xy')\n",
    "        )\n"
   ]
  },
  {
   "cell_type": "code",
   "execution_count": 99,
   "metadata": {},
   "outputs": [
    {
     "data": {
      "text/plain": [
       "{'data': tensor([[[[0., 0., 0.,  ..., 0., 0., 0.],\n",
       "           [0., 0., 0.,  ..., 0., 0., 0.],\n",
       "           [0., 0., 0.,  ..., 0., 0., 0.],\n",
       "           ...,\n",
       "           [0., 0., 0.,  ..., 0., 0., 0.],\n",
       "           [0., 0., 0.,  ..., 0., 0., 0.],\n",
       "           [0., 0., 0.,  ..., 0., 0., 0.]]]]),\n",
       " 'label': tensor([[[345.0000, 191.8750],\n",
       "          [337.5000, 213.1250],\n",
       "          [298.7500, 317.5000],\n",
       "          [291.2500, 340.0000]]]),\n",
       " 'id': ['0X74FA16DE8ADD4FE6'],\n",
       " 'height': tensor([768]),\n",
       " 'width': tensor([1024])}"
      ]
     },
     "execution_count": 99,
     "metadata": {},
     "output_type": "execute_result"
    }
   ],
   "source": [
    "ds = EchoDataset_heatmap(root=dataset_dir, split='train', transforms=test_ts)\n",
    "dl = DataLoader(ds, batch_size=1, shuffle=False, )\n",
    "s = dl.__iter__().__next__()\n",
    "s"
   ]
  },
  {
   "cell_type": "code",
   "execution_count": 100,
   "metadata": {},
   "outputs": [],
   "source": [
    "train_ds = EchoDataset_heatmap(root=dataset_dir, split='train', transforms=train_ts)\n",
    "valid_ds = EchoDataset_heatmap(root=dataset_dir, split='val', transforms=test_ts)\n",
    "\n",
    "train_dl = DataLoader(train_ds, batch_size=CFG.batch_size, shuffle=True)\n",
    "valid_dl = DataLoader(valid_ds, batch_size=CFG.batch_size//2, shuffle=False)"
   ]
  },
  {
   "cell_type": "markdown",
   "metadata": {},
   "source": [
    "## 🧮 Load Model"
   ]
  },
  {
   "cell_type": "code",
   "execution_count": 101,
   "metadata": {},
   "outputs": [],
   "source": [
    "# https://github.com/echonet/lvh/blob/master/models.py\n",
    "import torch\n",
    "import torchvision\n",
    "from pathlib import Path\n",
    "\n",
    "class PlaxModel(torch.nn.Module):\n",
    "\n",
    "    \"\"\"Model used for prediction of PLAX measurement points.\n",
    "    Output channels correspond to heatmaps for the endpoints of\n",
    "    measurements of interest.\n",
    "    \"\"\"\n",
    "\n",
    "    def __init__(self, \n",
    "            measurements=['LVPW', 'LVID', 'IVS'], \n",
    "        ) -> None:\n",
    "        super().__init__()\n",
    "        self.model = torchvision.models.segmentation.deeplabv3_resnet50(num_classes=len(measurements) + 1)\n",
    "\n",
    "    def forward(self, x):\n",
    "        return torch.sigmoid(self.model(x)['out'])\n"
   ]
  },
  {
   "cell_type": "code",
   "execution_count": 102,
   "metadata": {},
   "outputs": [],
   "source": [
    "from utils.train_heatmap import train_one_epoch, valid_one_epoch"
   ]
  },
  {
   "cell_type": "code",
   "execution_count": 103,
   "metadata": {},
   "outputs": [],
   "source": [
    "\n",
    "def run_training(model, train_dl, val_dl, optimizer, scheduler, criterion, CFG, wandb):\n",
    "    \"\"\"\n",
    "    모델, 데이터를 받아 학습/검증 수행후 결과에 대해 출력 및 모델 저장\n",
    "    \"\"\"\n",
    "    device = CFG['device']\n",
    "    num_epochs = CFG['epochs']\n",
    "    start = time.time()\n",
    "    early_stopping = EarlyStopping(patience=CFG['patience'], verbose=True, trace_func=trace_func)\n",
    "\n",
    "    best_model_wts = copy.deepcopy(model.state_dict())\n",
    "    best_mde = np.inf\n",
    "    # best_loss = \n",
    "    best_epoch = -1\n",
    "    history = defaultdict(list)\n",
    "    # 에폭만큼 학습 수행\n",
    "    for epoch in range(1, num_epochs+1):\n",
    "        gc.collect()\n",
    "        # 에폭 단위 학습 수행\n",
    "        train_loss, train_mde = train_one_epoch(model=model, dataloader=train_dl, optimizer=optimizer, scheduler=scheduler, device=device, criterion=criterion, CFG=CFG)\n",
    "        # 에폭 단위 검증 수행\n",
    "        val_loss, val_mde = valid_one_epoch(model=model, dataloader=val_dl, device=device, criterion=criterion, CFG=CFG)\n",
    "        early_stopping(val_loss, model)\n",
    "\n",
    "        history['Train Loss'].append(train_loss)\n",
    "        history['Train MDE'].append(train_mde)\n",
    "        history['Valid Loss'].append(val_loss)\n",
    "        history['Valid MDE'].append(val_mde)\n",
    "        \n",
    "        wandb.log({\"Train Loss\": train_loss, \n",
    "            \"Train MDE\": train_mde,\n",
    "            \"Valid Loss\": val_loss,\n",
    "            \"Valid MDE\": val_mde,\n",
    "            \"LR\":scheduler.get_last_lr()[0]})\n",
    "\n",
    "        trace_func(f\"[Epoch {epoch}/{CFG['epochs']}: Train Loss: {train_loss:.5f}, Val Loss: {val_loss:.5f}, Train MDE: {train_mde:.5f}, Val MDE: {val_mde:.5f}\")\n",
    "        \n",
    "        if scheduler is not None:\n",
    "            scheduler.step()\n",
    "        # validation MDE가 개선이 된 경우 모델을 저장\n",
    "        if val_mde <= best_mde:\n",
    "            trace_func(f\"Valid Score Improved ({best_mde:.4f} ---> {val_mde:.4f})\")\n",
    "            best_mde = val_mde\n",
    "            best_epoch = epoch\n",
    "            best_model_wts = copy.deepcopy(model.state_dict())\n",
    "            \n",
    "            wandb.run.summary['Best MDE'] = best_mde\n",
    "            wandb.run.summary['Best Epoch'] = best_epoch\n",
    "\n",
    "            model_name = f\"best_epoch-{CFG['view']}-{CFG['dataset']}-{CFG['backbone']}.pth\"\n",
    "            torch.save({\n",
    "                'epoch': epoch,\n",
    "                'model_state_dict': model.state_dict(),\n",
    "                'optimizer_state_dict':optimizer.state_dict(),\n",
    "                'loss': val_loss,\n",
    "                'metric': val_mde\n",
    "                }, \n",
    "                os.path.join(f\"saved_model\", CFG['version'], model_name))\n",
    "\n",
    "            trace_func(f\"Model Saved\")\n",
    "        # Loss 최소일때\n",
    "        # if best_loss \n",
    "        if early_stopping.early_stop:\n",
    "            trace_func(\"Early stopping\")\n",
    "            break\n",
    "\n",
    "    model_name = f\"last_epoch-{CFG['view']}-{CFG['dataset']}-{CFG['backbone']}.pth\"\n",
    "    torch.save({\n",
    "                'epoch': epoch,\n",
    "                'model_state_dict': model.state_dict(),\n",
    "                'optimizer_state_dict':optimizer.state_dict(),\n",
    "                'loss': val_loss\n",
    "                }, \n",
    "                os.path.join(f\"saved_model\", CFG['version'], model_name))\n",
    "    \n",
    "    end = time.time()\n",
    "    time_elapsed = end-start\n",
    "    trace_func(\"Trianing complete in {:.0f}h {:.0f}m {:.0f}s\".format(time_elapsed//3600, (time_elapsed%3600)//60, (time_elapsed%3600)%60))\n",
    "    trace_func(\"Best Val MDE: {:.4f}\".format(best_mde))\n",
    "\n",
    "    model.load_state_dict(best_model_wts)\n",
    "\n",
    "    return model, history"
   ]
  },
  {
   "cell_type": "code",
   "execution_count": 104,
   "metadata": {},
   "outputs": [],
   "source": [
    "# https://github.com/qubvel/segmentation_models.pytorch\n",
    "import segmentation_models_pytorch as smp\n",
    "model = smp.Unet(\n",
    "    encoder_name=\"resnet50\",        # choose encoder, e.g. mobilenet_v2 or efficientnet-b7\n",
    "    encoder_weights=\"imagenet\",     # use `imagenet` pre-trained weights for encoder initialization\n",
    "    in_channels=1,                  # model input channels (1 for gray-scale images, 3 for RGB, etc.)\n",
    "    classes=4,                      # model output channels (number of classes in your dataset)\n",
    "    activation='softmax'\n",
    "    \n",
    ")"
   ]
  },
  {
   "cell_type": "code",
   "execution_count": 105,
   "metadata": {},
   "outputs": [],
   "source": [
    "\n",
    "class DiceLoss(nn.Module):\n",
    "    def __init__(self, weight=None, size_average=True):\n",
    "        super(DiceLoss, self).__init__()\n",
    "\n",
    "    def forward(self, inputs, targets, smooth=1):\n",
    "        \n",
    "        #comment out if your model contains a sigmoid or equivalent activation layer\n",
    "        # inputs = F.sigmoid(inputs)       \n",
    "        batch_size = inputs.size(0)\n",
    "        num_joints = inputs.size(1)\n",
    "        all_dice = 0\n",
    "        for idx in range(num_joints):\n",
    "        #flatten label and prediction tensors\n",
    "            input = inputs[:,idx].reshape(-1)\n",
    "            target = targets[:,idx].reshape(-1)\n",
    "        \n",
    "            intersection = (input * target).sum()                            \n",
    "            dice = (2.*intersection + smooth)/(input.sum() + target.sum() + smooth)  \n",
    "            all_dice += dice\n",
    "        return 1 - all_dice/num_joints\n"
   ]
  },
  {
   "cell_type": "code",
   "execution_count": 106,
   "metadata": {},
   "outputs": [],
   "source": [
    "from utils.loss import HeatmapMSELoss, HeatmapOHKMMSELoss, JointsRMSELoss\n",
    "# model = PlaxModel(measurements=['IVSd','LVIDd','LVPWd'])\n",
    "optimizer = torch.optim.Adam(params=model.parameters(), lr=CFG.lr)\n",
    "# https://smp.readthedocs.io/en/latest/losses.html\n",
    "# criterion = smp.losses.DiceLoss(mode='multiclass', from_logits=False)\n",
    "# criterion = HeatmapMSELoss(use_target_weight=False)\n",
    "criterion = DiceLoss()"
   ]
  },
  {
   "cell_type": "code",
   "execution_count": 107,
   "metadata": {},
   "outputs": [],
   "source": [
    "CFG['device'] = 'cpu'"
   ]
  },
  {
   "cell_type": "code",
   "execution_count": 108,
   "metadata": {},
   "outputs": [
    {
     "data": {
      "text/html": [
       "wandb version 0.13.4 is available!  To upgrade, please run:\n",
       " $ pip install wandb --upgrade"
      ],
      "text/plain": [
       "<IPython.core.display.HTML object>"
      ]
     },
     "metadata": {},
     "output_type": "display_data"
    },
    {
     "data": {
      "text/html": [
       "Tracking run with wandb version 0.13.1"
      ],
      "text/plain": [
       "<IPython.core.display.HTML object>"
      ]
     },
     "metadata": {},
     "output_type": "display_data"
    },
    {
     "data": {
      "text/html": [
       "Run data is saved locally in <code>/Users/kyh/Workspace/2022KOHI/lvh_custom/wandb/run-20221016_215008-qasdz03l</code>"
      ],
      "text/plain": [
       "<IPython.core.display.HTML object>"
      ]
     },
     "metadata": {},
     "output_type": "display_data"
    },
    {
     "data": {
      "text/html": [
       "Syncing run <strong><a href=\"https://wandb.ai/kyh/2022KOHI_keypoint_detection%7CSegmentation/runs/qasdz03l\" target=\"_blank\">View-PLAX|Dataset-EchoNetLVH|Backbone-resnet50</a></strong> to <a href=\"https://wandb.ai/kyh/2022KOHI_keypoint_detection%7CSegmentation\" target=\"_blank\">Weights & Biases</a> (<a href=\"https://wandb.me/run\" target=\"_blank\">docs</a>)<br/>"
      ],
      "text/plain": [
       "<IPython.core.display.HTML object>"
      ]
     },
     "metadata": {},
     "output_type": "display_data"
    },
    {
     "name": "stderr",
     "output_type": "stream",
     "text": [
      "Train :   0%|          | 0/111 [00:00<?, ?it/s]"
     ]
    },
    {
     "name": "stdout",
     "output_type": "stream",
     "text": [
      "Adjusting learning rate of group 0 to 1.0000e-03.\n"
     ]
    },
    {
     "name": "stderr",
     "output_type": "stream",
     "text": [
      "Train : 100%|██████████| 111/111 [04:29<00:00,  2.43s/it, lr=0.00100, train_MDE=0.0000, train_loss=0.9970]\n",
      "Valid : 100%|██████████| 109/109 [00:37<00:00,  2.87it/s, valid_MDE=0.0000, valid_loss=0.9971]"
     ]
    },
    {
     "name": "stdout",
     "output_type": "stream",
     "text": [
      "2022-10-16 21:55:23,160 - Validation loss decreased (inf --> 0.997068))#.  Saving model ...\n"
     ]
    },
    {
     "name": "stderr",
     "output_type": "stream",
     "text": [
      "\n",
      "2022-10-16 21:55:23,160 - root - INFO - Validation loss decreased (inf --> 0.997068))#.  Saving model ...\n",
      "2022-10-16 21:55:23,160 - root - INFO - Validation loss decreased (inf --> 0.997068))#.  Saving model ...\n"
     ]
    },
    {
     "name": "stdout",
     "output_type": "stream",
     "text": [
      "2022-10-16 21:55:23,163 - [Epoch 1/200: Train Loss: 0.99701, Val Loss: 0.99707, Train MDE: 0.00000, Val MDE: 0.00000\n"
     ]
    },
    {
     "name": "stderr",
     "output_type": "stream",
     "text": [
      "2022-10-16 21:55:23,163 - root - INFO - [Epoch 1/200: Train Loss: 0.99701, Val Loss: 0.99707, Train MDE: 0.00000, Val MDE: 0.00000\n",
      "2022-10-16 21:55:23,163 - root - INFO - [Epoch 1/200: Train Loss: 0.99701, Val Loss: 0.99707, Train MDE: 0.00000, Val MDE: 0.00000\n"
     ]
    },
    {
     "name": "stdout",
     "output_type": "stream",
     "text": [
      "Adjusting learning rate of group 0 to 9.9000e-04.\n",
      "2022-10-16 21:55:23,165 - Valid Score Improved (inf ---> 0.0000)\n"
     ]
    },
    {
     "name": "stderr",
     "output_type": "stream",
     "text": [
      "2022-10-16 21:55:23,165 - root - INFO - Valid Score Improved (inf ---> 0.0000)\n",
      "2022-10-16 21:55:23,165 - root - INFO - Valid Score Improved (inf ---> 0.0000)\n"
     ]
    },
    {
     "name": "stdout",
     "output_type": "stream",
     "text": [
      "2022-10-16 21:55:23,382 - Model Saved\n"
     ]
    },
    {
     "name": "stderr",
     "output_type": "stream",
     "text": [
      "2022-10-16 21:55:23,382 - root - INFO - Model Saved\n",
      "2022-10-16 21:55:23,382 - root - INFO - Model Saved\n",
      "Train : 100%|██████████| 111/111 [04:33<00:00,  2.47s/it, lr=0.00099, train_MDE=0.0000, train_loss=0.9929]\n",
      "Valid : 100%|██████████| 109/109 [00:34<00:00,  3.12it/s, valid_MDE=0.0000, valid_loss=0.9963]"
     ]
    },
    {
     "name": "stdout",
     "output_type": "stream",
     "text": [
      "2022-10-16 22:00:32,163 - Validation loss decreased (0.997068 --> 0.996306))#.  Saving model ...\n"
     ]
    },
    {
     "name": "stderr",
     "output_type": "stream",
     "text": [
      "\n",
      "2022-10-16 22:00:32,163 - root - INFO - Validation loss decreased (0.997068 --> 0.996306))#.  Saving model ...\n",
      "2022-10-16 22:00:32,163 - root - INFO - Validation loss decreased (0.997068 --> 0.996306))#.  Saving model ...\n"
     ]
    },
    {
     "name": "stdout",
     "output_type": "stream",
     "text": [
      "2022-10-16 22:00:32,166 - [Epoch 2/200: Train Loss: 0.99294, Val Loss: 0.99631, Train MDE: 0.00000, Val MDE: 0.00000\n"
     ]
    },
    {
     "name": "stderr",
     "output_type": "stream",
     "text": [
      "2022-10-16 22:00:32,166 - root - INFO - [Epoch 2/200: Train Loss: 0.99294, Val Loss: 0.99631, Train MDE: 0.00000, Val MDE: 0.00000\n",
      "2022-10-16 22:00:32,166 - root - INFO - [Epoch 2/200: Train Loss: 0.99294, Val Loss: 0.99631, Train MDE: 0.00000, Val MDE: 0.00000\n"
     ]
    },
    {
     "name": "stdout",
     "output_type": "stream",
     "text": [
      "Adjusting learning rate of group 0 to 9.8010e-04.\n",
      "2022-10-16 22:00:32,168 - Valid Score Improved (0.0000 ---> 0.0000)\n"
     ]
    },
    {
     "name": "stderr",
     "output_type": "stream",
     "text": [
      "2022-10-16 22:00:32,168 - root - INFO - Valid Score Improved (0.0000 ---> 0.0000)\n",
      "2022-10-16 22:00:32,168 - root - INFO - Valid Score Improved (0.0000 ---> 0.0000)\n"
     ]
    },
    {
     "name": "stdout",
     "output_type": "stream",
     "text": [
      "2022-10-16 22:00:32,382 - Model Saved\n"
     ]
    },
    {
     "name": "stderr",
     "output_type": "stream",
     "text": [
      "2022-10-16 22:00:32,382 - root - INFO - Model Saved\n",
      "2022-10-16 22:00:32,382 - root - INFO - Model Saved\n",
      "Train : 100%|██████████| 111/111 [04:29<00:00,  2.42s/it, lr=0.00098, train_MDE=0.0000, train_loss=0.9937]\n",
      "Valid : 100%|██████████| 109/109 [00:34<00:00,  3.16it/s, valid_MDE=0.0000, valid_loss=0.9948]"
     ]
    },
    {
     "name": "stdout",
     "output_type": "stream",
     "text": [
      "2022-10-16 22:05:36,105 - Validation loss decreased (0.996306 --> 0.994837))#.  Saving model ...\n"
     ]
    },
    {
     "name": "stderr",
     "output_type": "stream",
     "text": [
      "\n",
      "2022-10-16 22:05:36,105 - root - INFO - Validation loss decreased (0.996306 --> 0.994837))#.  Saving model ...\n",
      "2022-10-16 22:05:36,105 - root - INFO - Validation loss decreased (0.996306 --> 0.994837))#.  Saving model ...\n"
     ]
    },
    {
     "name": "stdout",
     "output_type": "stream",
     "text": [
      "2022-10-16 22:05:36,109 - [Epoch 3/200: Train Loss: 0.99367, Val Loss: 0.99484, Train MDE: 0.00000, Val MDE: 0.00000\n"
     ]
    },
    {
     "name": "stderr",
     "output_type": "stream",
     "text": [
      "2022-10-16 22:05:36,109 - root - INFO - [Epoch 3/200: Train Loss: 0.99367, Val Loss: 0.99484, Train MDE: 0.00000, Val MDE: 0.00000\n",
      "2022-10-16 22:05:36,109 - root - INFO - [Epoch 3/200: Train Loss: 0.99367, Val Loss: 0.99484, Train MDE: 0.00000, Val MDE: 0.00000\n"
     ]
    },
    {
     "name": "stdout",
     "output_type": "stream",
     "text": [
      "Adjusting learning rate of group 0 to 9.7030e-04.\n",
      "2022-10-16 22:05:36,111 - Valid Score Improved (0.0000 ---> 0.0000)\n"
     ]
    },
    {
     "name": "stderr",
     "output_type": "stream",
     "text": [
      "2022-10-16 22:05:36,111 - root - INFO - Valid Score Improved (0.0000 ---> 0.0000)\n",
      "2022-10-16 22:05:36,111 - root - INFO - Valid Score Improved (0.0000 ---> 0.0000)\n"
     ]
    },
    {
     "name": "stdout",
     "output_type": "stream",
     "text": [
      "2022-10-16 22:05:36,327 - Model Saved\n"
     ]
    },
    {
     "name": "stderr",
     "output_type": "stream",
     "text": [
      "2022-10-16 22:05:36,327 - root - INFO - Model Saved\n",
      "2022-10-16 22:05:36,327 - root - INFO - Model Saved\n",
      "Train : 100%|██████████| 111/111 [04:26<00:00,  2.40s/it, lr=0.00097, train_MDE=0.0000, train_loss=0.9970]\n",
      "Valid : 100%|██████████| 109/109 [00:35<00:00,  3.10it/s, valid_MDE=0.0000, valid_loss=0.9965]"
     ]
    },
    {
     "name": "stdout",
     "output_type": "stream",
     "text": [
      "2022-10-16 22:10:38,110 - EarlyStopping counter: 1 out of 50\n"
     ]
    },
    {
     "name": "stderr",
     "output_type": "stream",
     "text": [
      "\n",
      "2022-10-16 22:10:38,110 - root - INFO - EarlyStopping counter: 1 out of 50\n",
      "2022-10-16 22:10:38,110 - root - INFO - EarlyStopping counter: 1 out of 50\n"
     ]
    },
    {
     "name": "stdout",
     "output_type": "stream",
     "text": [
      "2022-10-16 22:10:38,119 - [Epoch 4/200: Train Loss: 0.99702, Val Loss: 0.99652, Train MDE: 0.00000, Val MDE: 0.00000\n"
     ]
    },
    {
     "name": "stderr",
     "output_type": "stream",
     "text": [
      "2022-10-16 22:10:38,119 - root - INFO - [Epoch 4/200: Train Loss: 0.99702, Val Loss: 0.99652, Train MDE: 0.00000, Val MDE: 0.00000\n",
      "2022-10-16 22:10:38,119 - root - INFO - [Epoch 4/200: Train Loss: 0.99702, Val Loss: 0.99652, Train MDE: 0.00000, Val MDE: 0.00000\n"
     ]
    },
    {
     "name": "stdout",
     "output_type": "stream",
     "text": [
      "Adjusting learning rate of group 0 to 9.6060e-04.\n",
      "2022-10-16 22:10:38,168 - Valid Score Improved (0.0000 ---> 0.0000)\n"
     ]
    },
    {
     "name": "stderr",
     "output_type": "stream",
     "text": [
      "2022-10-16 22:10:38,168 - root - INFO - Valid Score Improved (0.0000 ---> 0.0000)\n",
      "2022-10-16 22:10:38,168 - root - INFO - Valid Score Improved (0.0000 ---> 0.0000)\n"
     ]
    },
    {
     "name": "stdout",
     "output_type": "stream",
     "text": [
      "2022-10-16 22:10:41,267 - Model Saved\n"
     ]
    },
    {
     "name": "stderr",
     "output_type": "stream",
     "text": [
      "2022-10-16 22:10:41,267 - root - INFO - Model Saved\n",
      "2022-10-16 22:10:41,267 - root - INFO - Model Saved\n",
      "Train : 100%|██████████| 111/111 [04:27<00:00,  2.41s/it, lr=0.00096, train_MDE=0.0000, train_loss=0.9945]\n",
      "Valid : 100%|██████████| 109/109 [00:35<00:00,  3.11it/s, valid_MDE=0.0000, valid_loss=0.9923]"
     ]
    },
    {
     "name": "stdout",
     "output_type": "stream",
     "text": [
      "2022-10-16 22:15:44,213 - Validation loss decreased (0.994837 --> 0.992302))#.  Saving model ...\n"
     ]
    },
    {
     "name": "stderr",
     "output_type": "stream",
     "text": [
      "\n",
      "2022-10-16 22:15:44,213 - root - INFO - Validation loss decreased (0.994837 --> 0.992302))#.  Saving model ...\n",
      "2022-10-16 22:15:44,213 - root - INFO - Validation loss decreased (0.994837 --> 0.992302))#.  Saving model ...\n"
     ]
    },
    {
     "name": "stdout",
     "output_type": "stream",
     "text": [
      "2022-10-16 22:15:44,220 - [Epoch 5/200: Train Loss: 0.99451, Val Loss: 0.99230, Train MDE: 0.00000, Val MDE: 0.00000\n"
     ]
    },
    {
     "name": "stderr",
     "output_type": "stream",
     "text": [
      "2022-10-16 22:15:44,220 - root - INFO - [Epoch 5/200: Train Loss: 0.99451, Val Loss: 0.99230, Train MDE: 0.00000, Val MDE: 0.00000\n",
      "2022-10-16 22:15:44,220 - root - INFO - [Epoch 5/200: Train Loss: 0.99451, Val Loss: 0.99230, Train MDE: 0.00000, Val MDE: 0.00000\n"
     ]
    },
    {
     "name": "stdout",
     "output_type": "stream",
     "text": [
      "Adjusting learning rate of group 0 to 9.5099e-04.\n",
      "2022-10-16 22:15:44,243 - Valid Score Improved (0.0000 ---> 0.0000)\n"
     ]
    },
    {
     "name": "stderr",
     "output_type": "stream",
     "text": [
      "2022-10-16 22:15:44,243 - root - INFO - Valid Score Improved (0.0000 ---> 0.0000)\n",
      "2022-10-16 22:15:44,243 - root - INFO - Valid Score Improved (0.0000 ---> 0.0000)\n"
     ]
    },
    {
     "name": "stdout",
     "output_type": "stream",
     "text": [
      "2022-10-16 22:15:44,755 - Model Saved\n"
     ]
    },
    {
     "name": "stderr",
     "output_type": "stream",
     "text": [
      "2022-10-16 22:15:44,755 - root - INFO - Model Saved\n",
      "2022-10-16 22:15:44,755 - root - INFO - Model Saved\n",
      "Train : 100%|██████████| 111/111 [04:28<00:00,  2.42s/it, lr=0.00095, train_MDE=0.0000, train_loss=0.9917]\n",
      "Valid : 100%|██████████| 109/109 [00:34<00:00,  3.13it/s, valid_MDE=0.0000, valid_loss=0.9948]"
     ]
    },
    {
     "name": "stdout",
     "output_type": "stream",
     "text": [
      "2022-10-16 22:20:48,053 - EarlyStopping counter: 1 out of 50\n"
     ]
    },
    {
     "name": "stderr",
     "output_type": "stream",
     "text": [
      "\n",
      "2022-10-16 22:20:48,053 - root - INFO - EarlyStopping counter: 1 out of 50\n",
      "2022-10-16 22:20:48,053 - root - INFO - EarlyStopping counter: 1 out of 50\n"
     ]
    },
    {
     "name": "stdout",
     "output_type": "stream",
     "text": [
      "2022-10-16 22:20:48,059 - [Epoch 6/200: Train Loss: 0.99168, Val Loss: 0.99482, Train MDE: 0.00000, Val MDE: 0.00000\n"
     ]
    },
    {
     "name": "stderr",
     "output_type": "stream",
     "text": [
      "2022-10-16 22:20:48,059 - root - INFO - [Epoch 6/200: Train Loss: 0.99168, Val Loss: 0.99482, Train MDE: 0.00000, Val MDE: 0.00000\n",
      "2022-10-16 22:20:48,059 - root - INFO - [Epoch 6/200: Train Loss: 0.99168, Val Loss: 0.99482, Train MDE: 0.00000, Val MDE: 0.00000\n"
     ]
    },
    {
     "name": "stdout",
     "output_type": "stream",
     "text": [
      "Adjusting learning rate of group 0 to 9.4148e-04.\n",
      "2022-10-16 22:20:48,078 - Valid Score Improved (0.0000 ---> 0.0000)\n"
     ]
    },
    {
     "name": "stderr",
     "output_type": "stream",
     "text": [
      "2022-10-16 22:20:48,078 - root - INFO - Valid Score Improved (0.0000 ---> 0.0000)\n",
      "2022-10-16 22:20:48,078 - root - INFO - Valid Score Improved (0.0000 ---> 0.0000)\n"
     ]
    },
    {
     "name": "stdout",
     "output_type": "stream",
     "text": [
      "2022-10-16 22:20:49,544 - Model Saved\n"
     ]
    },
    {
     "name": "stderr",
     "output_type": "stream",
     "text": [
      "2022-10-16 22:20:49,544 - root - INFO - Model Saved\n",
      "2022-10-16 22:20:49,544 - root - INFO - Model Saved\n",
      "Train : 100%|██████████| 111/111 [04:34<00:00,  2.47s/it, lr=0.00094, train_MDE=0.0000, train_loss=0.9946]\n",
      "Valid : 100%|██████████| 109/109 [00:36<00:00,  3.02it/s, valid_MDE=0.0000, valid_loss=0.9924]"
     ]
    },
    {
     "name": "stdout",
     "output_type": "stream",
     "text": [
      "2022-10-16 22:26:00,356 - EarlyStopping counter: 2 out of 50\n"
     ]
    },
    {
     "name": "stderr",
     "output_type": "stream",
     "text": [
      "\n",
      "2022-10-16 22:26:00,356 - root - INFO - EarlyStopping counter: 2 out of 50\n",
      "2022-10-16 22:26:00,356 - root - INFO - EarlyStopping counter: 2 out of 50\n"
     ]
    },
    {
     "name": "stdout",
     "output_type": "stream",
     "text": [
      "2022-10-16 22:26:00,387 - [Epoch 7/200: Train Loss: 0.99455, Val Loss: 0.99236, Train MDE: 0.00000, Val MDE: 0.00000\n"
     ]
    },
    {
     "name": "stderr",
     "output_type": "stream",
     "text": [
      "2022-10-16 22:26:00,387 - root - INFO - [Epoch 7/200: Train Loss: 0.99455, Val Loss: 0.99236, Train MDE: 0.00000, Val MDE: 0.00000\n",
      "2022-10-16 22:26:00,387 - root - INFO - [Epoch 7/200: Train Loss: 0.99455, Val Loss: 0.99236, Train MDE: 0.00000, Val MDE: 0.00000\n"
     ]
    },
    {
     "name": "stdout",
     "output_type": "stream",
     "text": [
      "Adjusting learning rate of group 0 to 9.3207e-04.\n",
      "2022-10-16 22:26:00,435 - Valid Score Improved (0.0000 ---> 0.0000)\n"
     ]
    },
    {
     "name": "stderr",
     "output_type": "stream",
     "text": [
      "2022-10-16 22:26:00,435 - root - INFO - Valid Score Improved (0.0000 ---> 0.0000)\n",
      "2022-10-16 22:26:00,435 - root - INFO - Valid Score Improved (0.0000 ---> 0.0000)\n"
     ]
    },
    {
     "name": "stdout",
     "output_type": "stream",
     "text": [
      "2022-10-16 22:26:03,058 - Model Saved\n"
     ]
    },
    {
     "name": "stderr",
     "output_type": "stream",
     "text": [
      "2022-10-16 22:26:03,058 - root - INFO - Model Saved\n",
      "2022-10-16 22:26:03,058 - root - INFO - Model Saved\n",
      "Train : 100%|██████████| 111/111 [04:34<00:00,  2.47s/it, lr=0.00093, train_MDE=0.0000, train_loss=0.9909]\n",
      "Valid : 100%|██████████| 109/109 [00:34<00:00,  3.14it/s, valid_MDE=0.0000, valid_loss=0.9889]"
     ]
    },
    {
     "name": "stdout",
     "output_type": "stream",
     "text": [
      "2022-10-16 22:31:12,028 - Validation loss decreased (0.992302 --> 0.988938))#.  Saving model ...\n"
     ]
    },
    {
     "name": "stderr",
     "output_type": "stream",
     "text": [
      "\n",
      "2022-10-16 22:31:12,028 - root - INFO - Validation loss decreased (0.992302 --> 0.988938))#.  Saving model ...\n",
      "2022-10-16 22:31:12,028 - root - INFO - Validation loss decreased (0.992302 --> 0.988938))#.  Saving model ...\n"
     ]
    },
    {
     "name": "stdout",
     "output_type": "stream",
     "text": [
      "2022-10-16 22:31:12,030 - [Epoch 8/200: Train Loss: 0.99092, Val Loss: 0.98894, Train MDE: 0.00000, Val MDE: 0.00000\n"
     ]
    },
    {
     "name": "stderr",
     "output_type": "stream",
     "text": [
      "2022-10-16 22:31:12,030 - root - INFO - [Epoch 8/200: Train Loss: 0.99092, Val Loss: 0.98894, Train MDE: 0.00000, Val MDE: 0.00000\n",
      "2022-10-16 22:31:12,030 - root - INFO - [Epoch 8/200: Train Loss: 0.99092, Val Loss: 0.98894, Train MDE: 0.00000, Val MDE: 0.00000\n"
     ]
    },
    {
     "name": "stdout",
     "output_type": "stream",
     "text": [
      "Adjusting learning rate of group 0 to 9.2274e-04.\n",
      "2022-10-16 22:31:12,032 - Valid Score Improved (0.0000 ---> 0.0000)\n"
     ]
    },
    {
     "name": "stderr",
     "output_type": "stream",
     "text": [
      "2022-10-16 22:31:12,032 - root - INFO - Valid Score Improved (0.0000 ---> 0.0000)\n",
      "2022-10-16 22:31:12,032 - root - INFO - Valid Score Improved (0.0000 ---> 0.0000)\n"
     ]
    },
    {
     "name": "stdout",
     "output_type": "stream",
     "text": [
      "2022-10-16 22:31:12,248 - Model Saved\n"
     ]
    },
    {
     "name": "stderr",
     "output_type": "stream",
     "text": [
      "2022-10-16 22:31:12,248 - root - INFO - Model Saved\n",
      "2022-10-16 22:31:12,248 - root - INFO - Model Saved\n",
      "Train : 100%|██████████| 111/111 [04:29<00:00,  2.43s/it, lr=0.00092, train_MDE=0.0000, train_loss=0.9894]\n",
      "Valid : 100%|██████████| 109/109 [00:33<00:00,  3.25it/s, valid_MDE=0.0000, valid_loss=0.9896]"
     ]
    },
    {
     "name": "stdout",
     "output_type": "stream",
     "text": [
      "2022-10-16 22:36:15,400 - EarlyStopping counter: 1 out of 50\n"
     ]
    },
    {
     "name": "stderr",
     "output_type": "stream",
     "text": [
      "\n",
      "2022-10-16 22:36:15,400 - root - INFO - EarlyStopping counter: 1 out of 50\n",
      "2022-10-16 22:36:15,400 - root - INFO - EarlyStopping counter: 1 out of 50\n"
     ]
    },
    {
     "name": "stdout",
     "output_type": "stream",
     "text": [
      "2022-10-16 22:36:15,403 - [Epoch 9/200: Train Loss: 0.98939, Val Loss: 0.98956, Train MDE: 0.00000, Val MDE: 0.00000\n"
     ]
    },
    {
     "name": "stderr",
     "output_type": "stream",
     "text": [
      "2022-10-16 22:36:15,403 - root - INFO - [Epoch 9/200: Train Loss: 0.98939, Val Loss: 0.98956, Train MDE: 0.00000, Val MDE: 0.00000\n",
      "2022-10-16 22:36:15,403 - root - INFO - [Epoch 9/200: Train Loss: 0.98939, Val Loss: 0.98956, Train MDE: 0.00000, Val MDE: 0.00000\n"
     ]
    },
    {
     "name": "stdout",
     "output_type": "stream",
     "text": [
      "Adjusting learning rate of group 0 to 9.1352e-04.\n",
      "2022-10-16 22:36:15,404 - Valid Score Improved (0.0000 ---> 0.0000)\n"
     ]
    },
    {
     "name": "stderr",
     "output_type": "stream",
     "text": [
      "2022-10-16 22:36:15,404 - root - INFO - Valid Score Improved (0.0000 ---> 0.0000)\n",
      "2022-10-16 22:36:15,404 - root - INFO - Valid Score Improved (0.0000 ---> 0.0000)\n"
     ]
    },
    {
     "name": "stdout",
     "output_type": "stream",
     "text": [
      "2022-10-16 22:36:15,631 - Model Saved\n"
     ]
    },
    {
     "name": "stderr",
     "output_type": "stream",
     "text": [
      "2022-10-16 22:36:15,631 - root - INFO - Model Saved\n",
      "2022-10-16 22:36:15,631 - root - INFO - Model Saved\n",
      "Train : 100%|██████████| 111/111 [04:27<00:00,  2.41s/it, lr=0.00091, train_MDE=0.0000, train_loss=0.9890]\n",
      "Valid : 100%|██████████| 109/109 [00:33<00:00,  3.24it/s, valid_MDE=0.0000, valid_loss=0.9888]"
     ]
    },
    {
     "name": "stdout",
     "output_type": "stream",
     "text": [
      "2022-10-16 22:41:16,905 - Validation loss decreased (0.988938 --> 0.988761))#.  Saving model ...\n"
     ]
    },
    {
     "name": "stderr",
     "output_type": "stream",
     "text": [
      "\n",
      "2022-10-16 22:41:16,905 - root - INFO - Validation loss decreased (0.988938 --> 0.988761))#.  Saving model ...\n",
      "2022-10-16 22:41:16,905 - root - INFO - Validation loss decreased (0.988938 --> 0.988761))#.  Saving model ...\n"
     ]
    },
    {
     "name": "stdout",
     "output_type": "stream",
     "text": [
      "2022-10-16 22:41:16,908 - [Epoch 10/200: Train Loss: 0.98903, Val Loss: 0.98876, Train MDE: 0.00000, Val MDE: 0.00000\n"
     ]
    },
    {
     "name": "stderr",
     "output_type": "stream",
     "text": [
      "2022-10-16 22:41:16,908 - root - INFO - [Epoch 10/200: Train Loss: 0.98903, Val Loss: 0.98876, Train MDE: 0.00000, Val MDE: 0.00000\n",
      "2022-10-16 22:41:16,908 - root - INFO - [Epoch 10/200: Train Loss: 0.98903, Val Loss: 0.98876, Train MDE: 0.00000, Val MDE: 0.00000\n"
     ]
    },
    {
     "name": "stdout",
     "output_type": "stream",
     "text": [
      "Adjusting learning rate of group 0 to 9.0438e-04.\n",
      "2022-10-16 22:41:16,910 - Valid Score Improved (0.0000 ---> 0.0000)\n"
     ]
    },
    {
     "name": "stderr",
     "output_type": "stream",
     "text": [
      "2022-10-16 22:41:16,910 - root - INFO - Valid Score Improved (0.0000 ---> 0.0000)\n",
      "2022-10-16 22:41:16,910 - root - INFO - Valid Score Improved (0.0000 ---> 0.0000)\n"
     ]
    },
    {
     "name": "stdout",
     "output_type": "stream",
     "text": [
      "2022-10-16 22:41:17,212 - Model Saved\n"
     ]
    },
    {
     "name": "stderr",
     "output_type": "stream",
     "text": [
      "2022-10-16 22:41:17,212 - root - INFO - Model Saved\n",
      "2022-10-16 22:41:17,212 - root - INFO - Model Saved\n",
      "Train : 100%|██████████| 111/111 [04:19<00:00,  2.34s/it, lr=0.00090, train_MDE=0.0000, train_loss=0.9903]\n",
      "Valid : 100%|██████████| 109/109 [00:33<00:00,  3.27it/s, valid_MDE=0.0000, valid_loss=0.9899]"
     ]
    },
    {
     "name": "stdout",
     "output_type": "stream",
     "text": [
      "2022-10-16 22:46:10,589 - EarlyStopping counter: 1 out of 50\n"
     ]
    },
    {
     "name": "stderr",
     "output_type": "stream",
     "text": [
      "\n",
      "2022-10-16 22:46:10,589 - root - INFO - EarlyStopping counter: 1 out of 50\n",
      "2022-10-16 22:46:10,589 - root - INFO - EarlyStopping counter: 1 out of 50\n"
     ]
    },
    {
     "name": "stdout",
     "output_type": "stream",
     "text": [
      "2022-10-16 22:46:10,592 - [Epoch 11/200: Train Loss: 0.99030, Val Loss: 0.98994, Train MDE: 0.00000, Val MDE: 0.00000\n"
     ]
    },
    {
     "name": "stderr",
     "output_type": "stream",
     "text": [
      "2022-10-16 22:46:10,592 - root - INFO - [Epoch 11/200: Train Loss: 0.99030, Val Loss: 0.98994, Train MDE: 0.00000, Val MDE: 0.00000\n",
      "2022-10-16 22:46:10,592 - root - INFO - [Epoch 11/200: Train Loss: 0.99030, Val Loss: 0.98994, Train MDE: 0.00000, Val MDE: 0.00000\n"
     ]
    },
    {
     "name": "stdout",
     "output_type": "stream",
     "text": [
      "Adjusting learning rate of group 0 to 8.9534e-04.\n",
      "2022-10-16 22:46:10,593 - Valid Score Improved (0.0000 ---> 0.0000)\n"
     ]
    },
    {
     "name": "stderr",
     "output_type": "stream",
     "text": [
      "2022-10-16 22:46:10,593 - root - INFO - Valid Score Improved (0.0000 ---> 0.0000)\n",
      "2022-10-16 22:46:10,593 - root - INFO - Valid Score Improved (0.0000 ---> 0.0000)\n"
     ]
    },
    {
     "name": "stdout",
     "output_type": "stream",
     "text": [
      "2022-10-16 22:46:10,808 - Model Saved\n"
     ]
    },
    {
     "name": "stderr",
     "output_type": "stream",
     "text": [
      "2022-10-16 22:46:10,808 - root - INFO - Model Saved\n",
      "2022-10-16 22:46:10,808 - root - INFO - Model Saved\n",
      "Train : 100%|██████████| 111/111 [04:21<00:00,  2.36s/it, lr=0.00090, train_MDE=0.0000, train_loss=0.9890]\n",
      "Valid : 100%|██████████| 109/109 [00:34<00:00,  3.16it/s, valid_MDE=0.0000, valid_loss=0.9972]"
     ]
    },
    {
     "name": "stdout",
     "output_type": "stream",
     "text": [
      "2022-10-16 22:51:07,333 - EarlyStopping counter: 2 out of 50\n"
     ]
    },
    {
     "name": "stderr",
     "output_type": "stream",
     "text": [
      "\n",
      "2022-10-16 22:51:07,333 - root - INFO - EarlyStopping counter: 2 out of 50\n",
      "2022-10-16 22:51:07,333 - root - INFO - EarlyStopping counter: 2 out of 50\n"
     ]
    },
    {
     "name": "stdout",
     "output_type": "stream",
     "text": [
      "2022-10-16 22:51:07,336 - [Epoch 12/200: Train Loss: 0.98897, Val Loss: 0.99715, Train MDE: 0.00000, Val MDE: 0.00000\n"
     ]
    },
    {
     "name": "stderr",
     "output_type": "stream",
     "text": [
      "2022-10-16 22:51:07,336 - root - INFO - [Epoch 12/200: Train Loss: 0.98897, Val Loss: 0.99715, Train MDE: 0.00000, Val MDE: 0.00000\n",
      "2022-10-16 22:51:07,336 - root - INFO - [Epoch 12/200: Train Loss: 0.98897, Val Loss: 0.99715, Train MDE: 0.00000, Val MDE: 0.00000\n"
     ]
    },
    {
     "name": "stdout",
     "output_type": "stream",
     "text": [
      "Adjusting learning rate of group 0 to 8.8638e-04.\n",
      "2022-10-16 22:51:07,338 - Valid Score Improved (0.0000 ---> 0.0000)\n"
     ]
    },
    {
     "name": "stderr",
     "output_type": "stream",
     "text": [
      "2022-10-16 22:51:07,338 - root - INFO - Valid Score Improved (0.0000 ---> 0.0000)\n",
      "2022-10-16 22:51:07,338 - root - INFO - Valid Score Improved (0.0000 ---> 0.0000)\n"
     ]
    },
    {
     "name": "stdout",
     "output_type": "stream",
     "text": [
      "2022-10-16 22:51:07,550 - Model Saved\n"
     ]
    },
    {
     "name": "stderr",
     "output_type": "stream",
     "text": [
      "2022-10-16 22:51:07,550 - root - INFO - Model Saved\n",
      "2022-10-16 22:51:07,550 - root - INFO - Model Saved\n",
      "Train : 100%|██████████| 111/111 [04:23<00:00,  2.37s/it, lr=0.00089, train_MDE=0.0000, train_loss=0.9923]\n",
      "Valid : 100%|██████████| 109/109 [00:33<00:00,  3.21it/s, valid_MDE=0.0000, valid_loss=0.9971]"
     ]
    },
    {
     "name": "stdout",
     "output_type": "stream",
     "text": [
      "2022-10-16 22:56:05,077 - EarlyStopping counter: 3 out of 50\n"
     ]
    },
    {
     "name": "stderr",
     "output_type": "stream",
     "text": [
      "\n",
      "2022-10-16 22:56:05,077 - root - INFO - EarlyStopping counter: 3 out of 50\n",
      "2022-10-16 22:56:05,077 - root - INFO - EarlyStopping counter: 3 out of 50\n"
     ]
    },
    {
     "name": "stdout",
     "output_type": "stream",
     "text": [
      "2022-10-16 22:56:05,080 - [Epoch 13/200: Train Loss: 0.99232, Val Loss: 0.99710, Train MDE: 0.00000, Val MDE: 0.00000\n"
     ]
    },
    {
     "name": "stderr",
     "output_type": "stream",
     "text": [
      "2022-10-16 22:56:05,080 - root - INFO - [Epoch 13/200: Train Loss: 0.99232, Val Loss: 0.99710, Train MDE: 0.00000, Val MDE: 0.00000\n",
      "2022-10-16 22:56:05,080 - root - INFO - [Epoch 13/200: Train Loss: 0.99232, Val Loss: 0.99710, Train MDE: 0.00000, Val MDE: 0.00000\n"
     ]
    },
    {
     "name": "stdout",
     "output_type": "stream",
     "text": [
      "Adjusting learning rate of group 0 to 8.7752e-04.\n",
      "2022-10-16 22:56:05,082 - Valid Score Improved (0.0000 ---> 0.0000)\n"
     ]
    },
    {
     "name": "stderr",
     "output_type": "stream",
     "text": [
      "2022-10-16 22:56:05,082 - root - INFO - Valid Score Improved (0.0000 ---> 0.0000)\n",
      "2022-10-16 22:56:05,082 - root - INFO - Valid Score Improved (0.0000 ---> 0.0000)\n"
     ]
    },
    {
     "name": "stdout",
     "output_type": "stream",
     "text": [
      "2022-10-16 22:56:05,293 - Model Saved\n"
     ]
    },
    {
     "name": "stderr",
     "output_type": "stream",
     "text": [
      "2022-10-16 22:56:05,293 - root - INFO - Model Saved\n",
      "2022-10-16 22:56:05,293 - root - INFO - Model Saved\n",
      "Train : 100%|██████████| 111/111 [04:23<00:00,  2.38s/it, lr=0.00088, train_MDE=0.0000, train_loss=0.9885]\n",
      "Valid : 100%|██████████| 109/109 [00:34<00:00,  3.20it/s, valid_MDE=0.0000, valid_loss=0.9884]"
     ]
    },
    {
     "name": "stdout",
     "output_type": "stream",
     "text": [
      "2022-10-16 23:01:03,265 - Validation loss decreased (0.988761 --> 0.988406))#.  Saving model ...\n"
     ]
    },
    {
     "name": "stderr",
     "output_type": "stream",
     "text": [
      "\n",
      "2022-10-16 23:01:03,265 - root - INFO - Validation loss decreased (0.988761 --> 0.988406))#.  Saving model ...\n",
      "2022-10-16 23:01:03,265 - root - INFO - Validation loss decreased (0.988761 --> 0.988406))#.  Saving model ...\n"
     ]
    },
    {
     "name": "stdout",
     "output_type": "stream",
     "text": [
      "2022-10-16 23:01:03,268 - [Epoch 14/200: Train Loss: 0.98845, Val Loss: 0.98841, Train MDE: 0.00000, Val MDE: 0.00000\n"
     ]
    },
    {
     "name": "stderr",
     "output_type": "stream",
     "text": [
      "2022-10-16 23:01:03,268 - root - INFO - [Epoch 14/200: Train Loss: 0.98845, Val Loss: 0.98841, Train MDE: 0.00000, Val MDE: 0.00000\n",
      "2022-10-16 23:01:03,268 - root - INFO - [Epoch 14/200: Train Loss: 0.98845, Val Loss: 0.98841, Train MDE: 0.00000, Val MDE: 0.00000\n"
     ]
    },
    {
     "name": "stdout",
     "output_type": "stream",
     "text": [
      "Adjusting learning rate of group 0 to 8.6875e-04.\n",
      "2022-10-16 23:01:03,270 - Valid Score Improved (0.0000 ---> 0.0000)\n"
     ]
    },
    {
     "name": "stderr",
     "output_type": "stream",
     "text": [
      "2022-10-16 23:01:03,270 - root - INFO - Valid Score Improved (0.0000 ---> 0.0000)\n",
      "2022-10-16 23:01:03,270 - root - INFO - Valid Score Improved (0.0000 ---> 0.0000)\n"
     ]
    },
    {
     "name": "stdout",
     "output_type": "stream",
     "text": [
      "2022-10-16 23:01:03,481 - Model Saved\n"
     ]
    },
    {
     "name": "stderr",
     "output_type": "stream",
     "text": [
      "2022-10-16 23:01:03,481 - root - INFO - Model Saved\n",
      "2022-10-16 23:01:03,481 - root - INFO - Model Saved\n",
      "Train : 100%|██████████| 111/111 [04:25<00:00,  2.39s/it, lr=0.00087, train_MDE=0.0000, train_loss=0.9904]\n",
      "Valid : 100%|██████████| 109/109 [00:34<00:00,  3.19it/s, valid_MDE=0.0000, valid_loss=0.9846]"
     ]
    },
    {
     "name": "stdout",
     "output_type": "stream",
     "text": [
      "2022-10-16 23:06:03,437 - Validation loss decreased (0.988406 --> 0.984621))#.  Saving model ...\n"
     ]
    },
    {
     "name": "stderr",
     "output_type": "stream",
     "text": [
      "\n",
      "2022-10-16 23:06:03,437 - root - INFO - Validation loss decreased (0.988406 --> 0.984621))#.  Saving model ...\n",
      "2022-10-16 23:06:03,437 - root - INFO - Validation loss decreased (0.988406 --> 0.984621))#.  Saving model ...\n"
     ]
    },
    {
     "name": "stdout",
     "output_type": "stream",
     "text": [
      "2022-10-16 23:06:03,440 - [Epoch 15/200: Train Loss: 0.99044, Val Loss: 0.98462, Train MDE: 0.00000, Val MDE: 0.00000\n"
     ]
    },
    {
     "name": "stderr",
     "output_type": "stream",
     "text": [
      "2022-10-16 23:06:03,440 - root - INFO - [Epoch 15/200: Train Loss: 0.99044, Val Loss: 0.98462, Train MDE: 0.00000, Val MDE: 0.00000\n",
      "2022-10-16 23:06:03,440 - root - INFO - [Epoch 15/200: Train Loss: 0.99044, Val Loss: 0.98462, Train MDE: 0.00000, Val MDE: 0.00000\n"
     ]
    },
    {
     "name": "stdout",
     "output_type": "stream",
     "text": [
      "Adjusting learning rate of group 0 to 8.6006e-04.\n",
      "2022-10-16 23:06:03,442 - Valid Score Improved (0.0000 ---> 0.0000)\n"
     ]
    },
    {
     "name": "stderr",
     "output_type": "stream",
     "text": [
      "2022-10-16 23:06:03,442 - root - INFO - Valid Score Improved (0.0000 ---> 0.0000)\n",
      "2022-10-16 23:06:03,442 - root - INFO - Valid Score Improved (0.0000 ---> 0.0000)\n"
     ]
    },
    {
     "name": "stdout",
     "output_type": "stream",
     "text": [
      "2022-10-16 23:06:03,653 - Model Saved\n"
     ]
    },
    {
     "name": "stderr",
     "output_type": "stream",
     "text": [
      "2022-10-16 23:06:03,653 - root - INFO - Model Saved\n",
      "2022-10-16 23:06:03,653 - root - INFO - Model Saved\n",
      "Train : 100%|██████████| 111/111 [04:22<00:00,  2.37s/it, lr=0.00086, train_MDE=0.0000, train_loss=0.9901]\n",
      "Valid : 100%|██████████| 109/109 [00:33<00:00,  3.21it/s, valid_MDE=0.0000, valid_loss=0.9875]"
     ]
    },
    {
     "name": "stdout",
     "output_type": "stream",
     "text": [
      "2022-10-16 23:11:00,718 - EarlyStopping counter: 1 out of 50\n"
     ]
    },
    {
     "name": "stderr",
     "output_type": "stream",
     "text": [
      "\n",
      "2022-10-16 23:11:00,718 - root - INFO - EarlyStopping counter: 1 out of 50\n",
      "2022-10-16 23:11:00,718 - root - INFO - EarlyStopping counter: 1 out of 50\n"
     ]
    },
    {
     "name": "stdout",
     "output_type": "stream",
     "text": [
      "2022-10-16 23:11:00,720 - [Epoch 16/200: Train Loss: 0.99013, Val Loss: 0.98747, Train MDE: 0.00000, Val MDE: 0.00000\n"
     ]
    },
    {
     "name": "stderr",
     "output_type": "stream",
     "text": [
      "2022-10-16 23:11:00,720 - root - INFO - [Epoch 16/200: Train Loss: 0.99013, Val Loss: 0.98747, Train MDE: 0.00000, Val MDE: 0.00000\n",
      "2022-10-16 23:11:00,720 - root - INFO - [Epoch 16/200: Train Loss: 0.99013, Val Loss: 0.98747, Train MDE: 0.00000, Val MDE: 0.00000\n"
     ]
    },
    {
     "name": "stdout",
     "output_type": "stream",
     "text": [
      "Adjusting learning rate of group 0 to 8.5146e-04.\n",
      "2022-10-16 23:11:00,722 - Valid Score Improved (0.0000 ---> 0.0000)\n"
     ]
    },
    {
     "name": "stderr",
     "output_type": "stream",
     "text": [
      "2022-10-16 23:11:00,722 - root - INFO - Valid Score Improved (0.0000 ---> 0.0000)\n",
      "2022-10-16 23:11:00,722 - root - INFO - Valid Score Improved (0.0000 ---> 0.0000)\n"
     ]
    },
    {
     "name": "stdout",
     "output_type": "stream",
     "text": [
      "2022-10-16 23:11:00,956 - Model Saved\n"
     ]
    },
    {
     "name": "stderr",
     "output_type": "stream",
     "text": [
      "2022-10-16 23:11:00,956 - root - INFO - Model Saved\n",
      "2022-10-16 23:11:00,956 - root - INFO - Model Saved\n",
      "Train : 100%|██████████| 111/111 [04:27<00:00,  2.41s/it, lr=0.00085, train_MDE=0.0000, train_loss=0.9881]\n",
      "Valid : 100%|██████████| 109/109 [00:34<00:00,  3.11it/s, valid_MDE=0.0000, valid_loss=0.9951]"
     ]
    },
    {
     "name": "stdout",
     "output_type": "stream",
     "text": [
      "2022-10-16 23:16:03,104 - EarlyStopping counter: 2 out of 50\n"
     ]
    },
    {
     "name": "stderr",
     "output_type": "stream",
     "text": [
      "\n",
      "2022-10-16 23:16:03,104 - root - INFO - EarlyStopping counter: 2 out of 50\n",
      "2022-10-16 23:16:03,104 - root - INFO - EarlyStopping counter: 2 out of 50\n"
     ]
    },
    {
     "name": "stdout",
     "output_type": "stream",
     "text": [
      "2022-10-16 23:16:03,107 - [Epoch 17/200: Train Loss: 0.98806, Val Loss: 0.99505, Train MDE: 0.00000, Val MDE: 0.00000\n"
     ]
    },
    {
     "name": "stderr",
     "output_type": "stream",
     "text": [
      "2022-10-16 23:16:03,107 - root - INFO - [Epoch 17/200: Train Loss: 0.98806, Val Loss: 0.99505, Train MDE: 0.00000, Val MDE: 0.00000\n",
      "2022-10-16 23:16:03,107 - root - INFO - [Epoch 17/200: Train Loss: 0.98806, Val Loss: 0.99505, Train MDE: 0.00000, Val MDE: 0.00000\n"
     ]
    },
    {
     "name": "stdout",
     "output_type": "stream",
     "text": [
      "Adjusting learning rate of group 0 to 8.4294e-04.\n",
      "2022-10-16 23:16:03,110 - Valid Score Improved (0.0000 ---> 0.0000)\n"
     ]
    },
    {
     "name": "stderr",
     "output_type": "stream",
     "text": [
      "2022-10-16 23:16:03,110 - root - INFO - Valid Score Improved (0.0000 ---> 0.0000)\n",
      "2022-10-16 23:16:03,110 - root - INFO - Valid Score Improved (0.0000 ---> 0.0000)\n"
     ]
    },
    {
     "name": "stdout",
     "output_type": "stream",
     "text": [
      "2022-10-16 23:16:03,357 - Model Saved\n"
     ]
    },
    {
     "name": "stderr",
     "output_type": "stream",
     "text": [
      "2022-10-16 23:16:03,357 - root - INFO - Model Saved\n",
      "2022-10-16 23:16:03,357 - root - INFO - Model Saved\n",
      "Train : 100%|██████████| 111/111 [04:29<00:00,  2.43s/it, lr=0.00084, train_MDE=0.0000, train_loss=0.9930]\n",
      "Valid :  74%|███████▍  | 81/109 [00:25<00:08,  3.13it/s, valid_MDE=0.0000, valid_loss=0.9981]"
     ]
    }
   ],
   "source": [
    "run = wandb.init(project='2022KOHI_keypoint_detection|Segmentation',\n",
    "                group=CFG['version'],\n",
    "                name= f\"View-{CFG['view']}|Dataset-{CFG['dataset']}|Backbone-{CFG['backbone']}\",\n",
    "                entity='kyh',\n",
    "                # config={k:v for k, v in CFG.items() if '__' not in k}\n",
    "                config={attr: CFG[attr] for attr in dir(CFG) if not callable(getattr(CFG, attr)) and not attr.startswith(\"__\")},\n",
    "                )\n",
    "\n",
    "model, hist = run_training(model=model.to(CFG[\"device\"]),\n",
    "             train_dl=train_dl, \n",
    "             val_dl=valid_dl, \n",
    "             optimizer=optimizer, \n",
    "             scheduler=fetch_scheduler(CFG, optimizer), \n",
    "             criterion=criterion, \n",
    "             CFG=CFG,\n",
    "             wandb=wandb)\n",
    "             \n",
    "wandb.run.finish()"
   ]
  },
  {
   "cell_type": "code",
   "execution_count": 85,
   "metadata": {},
   "outputs": [],
   "source": [
    "result = model(s['data'])"
   ]
  },
  {
   "cell_type": "code",
   "execution_count": 86,
   "metadata": {},
   "outputs": [],
   "source": [
    "from utils.heatmaps import *\n",
    "heatmap = render_gaussian_dot_f(\n",
    "    s['label'].flip(dims=[0,1]), # xy 2 yx\n",
    "    torch.tensor([CFG['std'], CFG['std']], dtype=torch.float32).to(CFG['device']),\n",
    "    [CFG['height'], CFG['width']],\n",
    "    # mul=255.\n",
    "    )\n"
   ]
  },
  {
   "cell_type": "code",
   "execution_count": 87,
   "metadata": {},
   "outputs": [
    {
     "data": {
      "image/png": "[encoded data removed]",
      "text/plain": [
       "<Figure size 432x288 with 1 Axes>"
      ]
     },
     "metadata": {
      "needs_background": "light"
     },
     "output_type": "display_data"
    },
    {
     "data": {
      "image/png": "[encoded data removed]",
      "text/plain": [
       "<Figure size 432x288 with 1 Axes>"
      ]
     },
     "metadata": {
      "needs_background": "light"
     },
     "output_type": "display_data"
    },
    {
     "data": {
      "image/png": "[encoded data removed]",
      "text/plain": [
       "<Figure size 432x288 with 1 Axes>"
      ]
     },
     "metadata": {
      "needs_background": "light"
     },
     "output_type": "display_data"
    },
    {
     "data": {
      "image/png": "[encoded data removed]",
      "text/plain": [
       "<Figure size 432x288 with 1 Axes>"
      ]
     },
     "metadata": {
      "needs_background": "light"
     },
     "output_type": "display_data"
    }
   ],
   "source": [
    "for i in heatmap.squeeze():\n",
    "    plt.imshow(i)\n",
    "    plt.show()"
   ]
  },
  {
   "cell_type": "code",
   "execution_count": null,
   "metadata": {},
   "outputs": [],
   "source": []
  },
  {
   "cell_type": "code",
   "execution_count": 89,
   "metadata": {},
   "outputs": [
    {
     "name": "stdout",
     "output_type": "stream",
     "text": [
      "[[4.89542086e-04 8.36354739e-05 8.42396475e-05 ... 5.16430991e-05\n",
      "  5.55473853e-05 2.31714058e-03]\n",
      " [2.09790633e-05 1.21846085e-06 1.74361344e-06 ... 1.05071251e-06\n",
      "  1.01237492e-06 1.11710651e-04]\n",
      " [4.49969230e-05 2.44276748e-06 2.59601848e-06 ... 2.78865946e-06\n",
      "  1.40261943e-06 8.26071919e-05]\n",
      " ...\n",
      " [1.99690985e-05 1.01103558e-06 8.90200795e-07 ... 1.17553702e-06\n",
      "  6.84302847e-07 7.20626122e-05]\n",
      " [5.52227284e-05 2.53012695e-06 1.73618707e-06 ... 3.69899885e-06\n",
      "  2.34253616e-06 1.13738854e-04]\n",
      " [9.38428391e-04 1.08275235e-04 6.22680891e-05 ... 1.58401162e-04\n",
      "  1.14692062e-04 2.15143547e-03]]\n"
     ]
    },
    {
     "data": {
      "image/png": "[encoded data removed]",
      "text/plain": [
       "<Figure size 432x288 with 1 Axes>"
      ]
     },
     "metadata": {
      "needs_background": "light"
     },
     "output_type": "display_data"
    },
    {
     "name": "stdout",
     "output_type": "stream",
     "text": [
      "[[0.94144136 0.9708199  0.9836289  ... 0.9852035  0.9755474  0.9307404 ]\n",
      " [0.9832751  0.9926635  0.9976502  ... 0.997663   0.9967263  0.9925817 ]\n",
      " [0.97750914 0.995142   0.9982083  ... 0.9974226  0.9974854  0.9958973 ]\n",
      " ...\n",
      " [0.98050565 0.997056   0.9990822  ... 0.99785304 0.9977186  0.9958735 ]\n",
      " [0.9427053  0.98793346 0.99644107 ... 0.991289   0.9890954  0.98822   ]\n",
      " [0.8665122  0.9322629  0.97177535 ... 0.9559945  0.9429941  0.91016495]]\n"
     ]
    },
    {
     "data": {
      "image/png": "[encoded data removed]",
      "text/plain": [
       "<Figure size 432x288 with 1 Axes>"
      ]
     },
     "metadata": {
      "needs_background": "light"
     },
     "output_type": "display_data"
    },
    {
     "name": "stdout",
     "output_type": "stream",
     "text": [
      "[[0.0569332  0.02904241 0.01621105 ... 0.01469476 0.02436154 0.06611811]\n",
      " [0.01659534 0.00733314 0.00234358 ... 0.00233211 0.00326974 0.00724597]\n",
      " [0.02218822 0.00484874 0.00177551 ... 0.00255813 0.00250405 0.00392783]\n",
      " ...\n",
      " [0.01937119 0.00294172 0.00091418 ... 0.00214294 0.00227868 0.00400824]\n",
      " [0.05680211 0.01206143 0.00355437 ... 0.00870169 0.0108974  0.01162111]\n",
      " [0.12694825 0.06731832 0.02798692 ... 0.04341159 0.05642925 0.08321529]]\n"
     ]
    },
    {
     "data": {
      "image/png": "[encoded data removed]",
      "text/plain": [
       "<Figure size 432x288 with 1 Axes>"
      ]
     },
     "metadata": {
      "needs_background": "light"
     },
     "output_type": "display_data"
    },
    {
     "name": "stdout",
     "output_type": "stream",
     "text": [
      "[[1.1358230e-03 5.4023953e-05 7.5854121e-05 ... 4.9977556e-05\n",
      "  3.5490702e-05 8.2429661e-04]\n",
      " [1.0854631e-04 2.2903537e-06 4.4092121e-06 ... 3.7663649e-06\n",
      "  2.7968622e-06 6.0639195e-05]\n",
      " [2.5759629e-04 6.7467363e-06 1.3619181e-05 ... 1.6524853e-05\n",
      "  9.1097709e-06 9.2205271e-05]\n",
      " ...\n",
      " [1.0322735e-04 1.1932866e-06 2.7136041e-06 ... 2.8277605e-06\n",
      "  1.9743561e-06 4.6210942e-05]\n",
      " [4.3745662e-04 2.6639852e-06 2.7338658e-06 ... 5.5664073e-06\n",
      "  4.8331585e-06 4.5258588e-05]\n",
      " [5.6011113e-03 3.1056083e-04 1.7534979e-04 ... 4.3550538e-04\n",
      "  4.6191158e-04 4.4683227e-03]]\n"
     ]
    },
    {
     "data": {
      "image/png": "[encoded data removed]",
      "text/plain": [
       "<Figure size 432x288 with 1 Axes>"
      ]
     },
     "metadata": {
      "needs_background": "light"
     },
     "output_type": "display_data"
    }
   ],
   "source": [
    "for i in result.squeeze():\n",
    "    a = i.detach().clone().numpy()\n",
    "    print(a)\n",
    "    # a[a<=.3]=0\n",
    "    \n",
    "    plt.imshow(a)\n",
    "    plt.show()"
   ]
  },
  {
   "cell_type": "code",
   "execution_count": null,
   "metadata": {},
   "outputs": [
    {
     "data": {
      "image/png": "[encoded data removed]",
      "text/plain": [
       "<Figure size 1080x720 with 1 Axes>"
      ]
     },
     "metadata": {
      "needs_background": "light"
     },
     "output_type": "display_data"
    }
   ],
   "source": [
    "show_lvh(s, )"
   ]
  },
  {
   "cell_type": "code",
   "execution_count": null,
   "metadata": {},
   "outputs": [],
   "source": []
  }
 ],
 "metadata": {
  "kernelspec": {
   "display_name": "Python 3.8.13 ('torch')",
   "language": "python",
   "name": "python3"
  },
  "language_info": {
   "codemirror_mode": {
    "name": "ipython",
    "version": 3
   },
   "file_extension": ".py",
   "mimetype": "text/x-python",
   "name": "python",
   "nbconvert_exporter": "python",
   "pygments_lexer": "ipython3",
   "version": "3.8.13"
  },
  "orig_nbformat": 4,
  "vscode": {
   "interpreter": {
    "hash": "758434cb7be0be5f7f624b2253e6bf43f75fae2cada1b0399972c5d97f2094be"
   }
  }
 },
 "nbformat": 4,
 "nbformat_minor": 2
}
