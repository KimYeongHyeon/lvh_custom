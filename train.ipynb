{
 "cells": [
  {
   "cell_type": "code",
   "execution_count": 1,
   "metadata": {},
   "outputs": [],
   "source": [
    "%load_ext autoreload\n",
    "%autoreload 2\n"
   ]
  },
  {
   "cell_type": "code",
   "execution_count": 2,
   "metadata": {},
   "outputs": [],
   "source": [
    "import os\n",
    "import glob\n",
    "import numpy as np\n",
    "import matplotlib.pyplot as plt\n",
    "import pandas as pd\n",
    "import random\n",
    "\n",
    "from sklearn.model_selection import train_test_split\n",
    "\n",
    "import torch\n",
    "import torch.nn as nn\n",
    "from torch.utils.data import Dataset, DataLoader\n"
   ]
  },
  {
   "cell_type": "code",
   "execution_count": 3,
   "metadata": {},
   "outputs": [],
   "source": [
    "def seed_everything(seed: int=0):    \n",
    "    random.seed(seed)\n",
    "    os.environ['PYTHONHASHSEED'] = str(seed)\n",
    "    np.random.seed(seed)\n",
    "    torch.manual_seed(seed)\n",
    "    torch.cuda.manual_seed(seed)\n",
    "    torch.backends.cudnn.deterministic = True\n",
    "    torch.backends.cudnn.benchmark = True\n"
   ]
  },
  {
   "cell_type": "code",
   "execution_count": 24,
   "metadata": {},
   "outputs": [],
   "source": [
    "# dataset_dir = '../dataset/EchoNet-LVH/dataset'\n",
    "dataset_dir = 'dataset'"
   ]
  },
  {
   "cell_type": "code",
   "execution_count": 25,
   "metadata": {},
   "outputs": [],
   "source": [
    "data_list = glob.glob(os.path.join(dataset_dir, '*', '*.avi'))\n",
    "label_df = pd.read_csv(os.path.join(dataset_dir, 'MeasurementsList.csv'), index_col=0)\n",
    "data_list = [os.path.basename(data_path).split('.')[0] for data_path in data_list]\n",
    "calc_list = ['LVPWd', 'LVIDd', 'IVSd']"
   ]
  },
  {
   "cell_type": "code",
   "execution_count": 26,
   "metadata": {},
   "outputs": [],
   "source": [
    "data_df = label_df[label_df['HashedFileName'].apply(lambda x: x in data_list)]\n",
    "data_df = data_df[data_df['Calc'].apply(lambda x: x in calc_list)]\n",
    "data_df.reset_index(drop=True, inplace=True)\n",
    "# 3개의 점이 반드시 존재하는 리스트\n",
    "perfect_list = [filename for filename in data_df['HashedFileName'].unique() if len(data_df[data_df['HashedFileName'] == filename])==3]\n",
    "data_df = data_df[data_df['HashedFileName'].apply(lambda x: x in perfect_list)]\n",
    "data_df.reset_index(drop=True, inplace=True)\n"
   ]
  },
  {
   "cell_type": "code",
   "execution_count": 29,
   "metadata": {},
   "outputs": [],
   "source": [
    "data_df.to_csv('dataset/MeasurementsList.csv')"
   ]
  },
  {
   "cell_type": "markdown",
   "metadata": {},
   "source": [
    "## Data Selection"
   ]
  },
  {
   "cell_type": "code",
   "execution_count": 30,
   "metadata": {},
   "outputs": [
    {
     "data": {
      "text/html": [
       "<div>\n",
       "<style scoped>\n",
       "    .dataframe tbody tr th:only-of-type {\n",
       "        vertical-align: middle;\n",
       "    }\n",
       "\n",
       "    .dataframe tbody tr th {\n",
       "        vertical-align: top;\n",
       "    }\n",
       "\n",
       "    .dataframe thead th {\n",
       "        text-align: right;\n",
       "    }\n",
       "</style>\n",
       "<table border=\"1\" class=\"dataframe\">\n",
       "  <thead>\n",
       "    <tr style=\"text-align: right;\">\n",
       "      <th></th>\n",
       "      <th>HashedFileName</th>\n",
       "      <th>Calc</th>\n",
       "      <th>CalcValue</th>\n",
       "      <th>Frame</th>\n",
       "      <th>X1</th>\n",
       "      <th>X2</th>\n",
       "      <th>Y1</th>\n",
       "      <th>Y2</th>\n",
       "      <th>Frames</th>\n",
       "      <th>FPS</th>\n",
       "      <th>Width</th>\n",
       "      <th>Height</th>\n",
       "      <th>split</th>\n",
       "    </tr>\n",
       "  </thead>\n",
       "  <tbody>\n",
       "    <tr>\n",
       "      <th>0</th>\n",
       "      <td>0X74FA16DE8ADD4FE6</td>\n",
       "      <td>LVPWd</td>\n",
       "      <td>0.906732</td>\n",
       "      <td>36</td>\n",
       "      <td>466</td>\n",
       "      <td>478</td>\n",
       "      <td>544</td>\n",
       "      <td>508</td>\n",
       "      <td>130</td>\n",
       "      <td>19.969</td>\n",
       "      <td>1024.0</td>\n",
       "      <td>768</td>\n",
       "      <td>train</td>\n",
       "    </tr>\n",
       "    <tr>\n",
       "      <th>1</th>\n",
       "      <td>0X74FA16DE8ADD4FE6</td>\n",
       "      <td>LVIDd</td>\n",
       "      <td>4.256507</td>\n",
       "      <td>36</td>\n",
       "      <td>478</td>\n",
       "      <td>540</td>\n",
       "      <td>508</td>\n",
       "      <td>341</td>\n",
       "      <td>130</td>\n",
       "      <td>19.969</td>\n",
       "      <td>1024.0</td>\n",
       "      <td>768</td>\n",
       "      <td>train</td>\n",
       "    </tr>\n",
       "    <tr>\n",
       "      <th>2</th>\n",
       "      <td>0X74FA16DE8ADD4FE6</td>\n",
       "      <td>IVSd</td>\n",
       "      <td>0.861528</td>\n",
       "      <td>36</td>\n",
       "      <td>540</td>\n",
       "      <td>552</td>\n",
       "      <td>341</td>\n",
       "      <td>307</td>\n",
       "      <td>130</td>\n",
       "      <td>19.969</td>\n",
       "      <td>1024.0</td>\n",
       "      <td>768</td>\n",
       "      <td>train</td>\n",
       "    </tr>\n",
       "    <tr>\n",
       "      <th>3</th>\n",
       "      <td>0X2EA926F54F8301D7</td>\n",
       "      <td>LVPWd</td>\n",
       "      <td>0.880773</td>\n",
       "      <td>58</td>\n",
       "      <td>412</td>\n",
       "      <td>432</td>\n",
       "      <td>594</td>\n",
       "      <td>560</td>\n",
       "      <td>211</td>\n",
       "      <td>19.971</td>\n",
       "      <td>1024.0</td>\n",
       "      <td>768</td>\n",
       "      <td>val</td>\n",
       "    </tr>\n",
       "    <tr>\n",
       "      <th>4</th>\n",
       "      <td>0X2EA926F54F8301D7</td>\n",
       "      <td>IVSd</td>\n",
       "      <td>0.892301</td>\n",
       "      <td>58</td>\n",
       "      <td>533</td>\n",
       "      <td>554</td>\n",
       "      <td>379</td>\n",
       "      <td>345</td>\n",
       "      <td>211</td>\n",
       "      <td>19.971</td>\n",
       "      <td>1024.0</td>\n",
       "      <td>768</td>\n",
       "      <td>val</td>\n",
       "    </tr>\n",
       "    <tr>\n",
       "      <th>...</th>\n",
       "      <td>...</td>\n",
       "      <td>...</td>\n",
       "      <td>...</td>\n",
       "      <td>...</td>\n",
       "      <td>...</td>\n",
       "      <td>...</td>\n",
       "      <td>...</td>\n",
       "      <td>...</td>\n",
       "      <td>...</td>\n",
       "      <td>...</td>\n",
       "      <td>...</td>\n",
       "      <td>...</td>\n",
       "      <td>...</td>\n",
       "    </tr>\n",
       "    <tr>\n",
       "      <th>709</th>\n",
       "      <td>0X3AE13B776E62F444</td>\n",
       "      <td>LVPWd</td>\n",
       "      <td>1.220124</td>\n",
       "      <td>39</td>\n",
       "      <td>354</td>\n",
       "      <td>385</td>\n",
       "      <td>583</td>\n",
       "      <td>538</td>\n",
       "      <td>155</td>\n",
       "      <td>19.968</td>\n",
       "      <td>1024.0</td>\n",
       "      <td>768</td>\n",
       "      <td>train</td>\n",
       "    </tr>\n",
       "    <tr>\n",
       "      <th>710</th>\n",
       "      <td>0X3AE13B776E62F444</td>\n",
       "      <td>IVSd</td>\n",
       "      <td>1.353223</td>\n",
       "      <td>39</td>\n",
       "      <td>498</td>\n",
       "      <td>535</td>\n",
       "      <td>369</td>\n",
       "      <td>321</td>\n",
       "      <td>155</td>\n",
       "      <td>19.968</td>\n",
       "      <td>1024.0</td>\n",
       "      <td>768</td>\n",
       "      <td>train</td>\n",
       "    </tr>\n",
       "    <tr>\n",
       "      <th>711</th>\n",
       "      <td>0X4C9C1980FBCEE61D</td>\n",
       "      <td>LVIDd</td>\n",
       "      <td>4.774580</td>\n",
       "      <td>40</td>\n",
       "      <td>455</td>\n",
       "      <td>575</td>\n",
       "      <td>594</td>\n",
       "      <td>397</td>\n",
       "      <td>156</td>\n",
       "      <td>19.968</td>\n",
       "      <td>1024.0</td>\n",
       "      <td>768</td>\n",
       "      <td>train</td>\n",
       "    </tr>\n",
       "    <tr>\n",
       "      <th>712</th>\n",
       "      <td>0X4C9C1980FBCEE61D</td>\n",
       "      <td>LVPWd</td>\n",
       "      <td>0.695488</td>\n",
       "      <td>40</td>\n",
       "      <td>435</td>\n",
       "      <td>455</td>\n",
       "      <td>621</td>\n",
       "      <td>594</td>\n",
       "      <td>156</td>\n",
       "      <td>19.968</td>\n",
       "      <td>1024.0</td>\n",
       "      <td>768</td>\n",
       "      <td>train</td>\n",
       "    </tr>\n",
       "    <tr>\n",
       "      <th>713</th>\n",
       "      <td>0X4C9C1980FBCEE61D</td>\n",
       "      <td>IVSd</td>\n",
       "      <td>0.757979</td>\n",
       "      <td>40</td>\n",
       "      <td>575</td>\n",
       "      <td>596</td>\n",
       "      <td>397</td>\n",
       "      <td>367</td>\n",
       "      <td>156</td>\n",
       "      <td>19.968</td>\n",
       "      <td>1024.0</td>\n",
       "      <td>768</td>\n",
       "      <td>train</td>\n",
       "    </tr>\n",
       "  </tbody>\n",
       "</table>\n",
       "<p>714 rows × 13 columns</p>\n",
       "</div>"
      ],
      "text/plain": [
       "         HashedFileName   Calc  CalcValue  Frame   X1   X2   Y1   Y2 Frames  \\\n",
       "0    0X74FA16DE8ADD4FE6  LVPWd   0.906732     36  466  478  544  508    130   \n",
       "1    0X74FA16DE8ADD4FE6  LVIDd   4.256507     36  478  540  508  341    130   \n",
       "2    0X74FA16DE8ADD4FE6   IVSd   0.861528     36  540  552  341  307    130   \n",
       "3    0X2EA926F54F8301D7  LVPWd   0.880773     58  412  432  594  560    211   \n",
       "4    0X2EA926F54F8301D7   IVSd   0.892301     58  533  554  379  345    211   \n",
       "..                  ...    ...        ...    ...  ...  ...  ...  ...    ...   \n",
       "709  0X3AE13B776E62F444  LVPWd   1.220124     39  354  385  583  538    155   \n",
       "710  0X3AE13B776E62F444   IVSd   1.353223     39  498  535  369  321    155   \n",
       "711  0X4C9C1980FBCEE61D  LVIDd   4.774580     40  455  575  594  397    156   \n",
       "712  0X4C9C1980FBCEE61D  LVPWd   0.695488     40  435  455  621  594    156   \n",
       "713  0X4C9C1980FBCEE61D   IVSd   0.757979     40  575  596  397  367    156   \n",
       "\n",
       "        FPS   Width  Height  split  \n",
       "0    19.969  1024.0     768  train  \n",
       "1    19.969  1024.0     768  train  \n",
       "2    19.969  1024.0     768  train  \n",
       "3    19.971  1024.0     768    val  \n",
       "4    19.971  1024.0     768    val  \n",
       "..      ...     ...     ...    ...  \n",
       "709  19.968  1024.0     768  train  \n",
       "710  19.968  1024.0     768  train  \n",
       "711  19.968  1024.0     768  train  \n",
       "712  19.968  1024.0     768  train  \n",
       "713  19.968  1024.0     768  train  \n",
       "\n",
       "[714 rows x 13 columns]"
      ]
     },
     "execution_count": 30,
     "metadata": {},
     "output_type": "execute_result"
    }
   ],
   "source": [
    "data_df"
   ]
  },
  {
   "cell_type": "code",
   "execution_count": 31,
   "metadata": {},
   "outputs": [],
   "source": [
    "a = data_df[data_df['HashedFileName'] == '0X74FA16DE8ADD4FE6']"
   ]
  },
  {
   "cell_type": "code",
   "execution_count": 32,
   "metadata": {},
   "outputs": [
    {
     "data": {
      "text/plain": [
       "(1, 4)"
      ]
     },
     "execution_count": 32,
     "metadata": {},
     "output_type": "execute_result"
    }
   ],
   "source": [
    "a[a['Calc'] == 'LVPWd'][['X1', 'X2', 'Y1', 'Y2']].to_numpy().shape"
   ]
  },
  {
   "cell_type": "code",
   "execution_count": 33,
   "metadata": {},
   "outputs": [
    {
     "data": {
      "text/plain": [
       "130"
      ]
     },
     "execution_count": 33,
     "metadata": {},
     "output_type": "execute_result"
    }
   ],
   "source": [
    "int(a[a['Calc'] == 'LVPWd']['Frames'])"
   ]
  },
  {
   "cell_type": "code",
   "execution_count": 34,
   "metadata": {},
   "outputs": [],
   "source": [
    "from utils.dataset import EchoDataset"
   ]
  },
  {
   "cell_type": "code",
   "execution_count": 35,
   "metadata": {},
   "outputs": [],
   "source": [
    "ds = EchoDataset(root=dataset_dir)"
   ]
  },
  {
   "cell_type": "code",
   "execution_count": 36,
   "metadata": {},
   "outputs": [],
   "source": [
    "dl = DataLoader(ds, batch_size=1, shuffle=False)"
   ]
  },
  {
   "cell_type": "code",
   "execution_count": 42,
   "metadata": {},
   "outputs": [],
   "source": [
    "s = dl.__iter__().__next__()"
   ]
  },
  {
   "cell_type": "code",
   "execution_count": 63,
   "metadata": {},
   "outputs": [
    {
     "data": {
      "text/plain": [
       "tensor([540, 552, 341, 307])"
      ]
     },
     "execution_count": 63,
     "metadata": {},
     "output_type": "execute_result"
    }
   ],
   "source": [
    "s[1][0].squeeze()"
   ]
  },
  {
   "cell_type": "code",
   "execution_count": 68,
   "metadata": {},
   "outputs": [
    {
     "name": "stdout",
     "output_type": "stream",
     "text": [
      "tensor([540, 552, 341, 307])\n",
      "tensor([478, 540, 508, 341])\n",
      "tensor([466, 478, 544, 508])\n"
     ]
    },
    {
     "data": {
      "text/plain": [
       "(-0.5, 1023.5, 767.5, -0.5)"
      ]
     },
     "execution_count": 68,
     "metadata": {},
     "output_type": "execute_result"
    },
    {
     "data": {
      "image/png": "[encoded data removed]",
      "text/plain": [
       "<Figure size 432x288 with 1 Axes>"
      ]
     },
     "metadata": {
      "needs_background": "light"
     },
     "output_type": "display_data"
    }
   ],
   "source": [
    "plt.imshow(s[0][0].squeeze().permute(1,2,0))\n",
    "for coor in s[1]:\n",
    "    coor = coor.squeeze()\n",
    "    print(coor)\n",
    "    plt.plot((coor[0], coor[2]),\n",
    "            (coor[1], coor[3]))\n",
    "plt.axis('off')"
   ]
  },
  {
   "cell_type": "code",
   "execution_count": null,
   "metadata": {},
   "outputs": [],
   "source": []
  }
 ],
 "metadata": {
  "kernelspec": {
   "display_name": "Python 3.8.13 ('torch')",
   "language": "python",
   "name": "python3"
  },
  "language_info": {
   "codemirror_mode": {
    "name": "ipython",
    "version": 3
   },
   "file_extension": ".py",
   "mimetype": "text/x-python",
   "name": "python",
   "nbconvert_exporter": "python",
   "pygments_lexer": "ipython3",
   "version": "3.8.13"
  },
  "orig_nbformat": 4,
  "vscode": {
   "interpreter": {
    "hash": "758434cb7be0be5f7f624b2253e6bf43f75fae2cada1b0399972c5d97f2094be"
   }
  }
 },
 "nbformat": 4,
 "nbformat_minor": 2
}
